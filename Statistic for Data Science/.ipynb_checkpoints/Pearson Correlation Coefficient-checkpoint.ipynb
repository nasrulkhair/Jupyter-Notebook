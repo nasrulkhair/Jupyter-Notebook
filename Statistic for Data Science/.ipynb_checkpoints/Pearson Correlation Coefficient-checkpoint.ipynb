{
 "cells": [
  {
   "cell_type": "markdown",
   "id": "77ecff0d-2caa-4eb0-b21d-e5943dd7adea",
   "metadata": {},
   "source": [
    "## Pearson Correlation Coefficient\n",
    "\n",
    "- The most commonly used linear correlation coeficient\n",
    "- Values Range ( -1 to 1 )\n",
    "- (-1) -> Perfect negative linear relationship\n",
    "- (0) No linear relationship\n",
    "- 1: Perfect positive linear relationship\n",
    "\n",
    "Correlation does not imply causation: Just because two variables are correlated does not mean one causes the other."
   ]
  },
  {
   "cell_type": "markdown",
   "id": "bf6ffe08-c557-4023-9034-a590db919f19",
   "metadata": {},
   "source": [
    "### Pearson Correlation Coefficient - Example\n",
    "\n",
    "| Person | Hours Studied | Exam Score |\n",
    "|--------|---------------|------------|\n",
    "|    1   |       2       |     50     |\n",
    "|    2   |       4       |     60     |\n",
    "|    3   |       6       |     65     |\n",
    "|    4   |       8       |     70     |\n",
    "|    5   |       10      |     85     |\n",
    "\n",
    "1. Find the Mean of Hours studied and Exam Score\n",
    "2. Calculate the Deviations for Hours and Exam Score for each person\n",
    "3. Multiply the Hours and Score Deviations for each student.\n",
    "4. Square the deviations for Hours and Score for each Person then sum\n",
    "5. Input the values from steps 3 and 4 into the Formula"
   ]
  },
  {
   "cell_type": "code",
   "execution_count": 1,
   "id": "3e9dbac6-bbe6-4e61-8015-6026dd99648b",
   "metadata": {},
   "outputs": [],
   "source": [
    "# importing libraries\n",
    "\n",
    "import numpy as np\n",
    "import pandas as pd\n",
    "from scipy.stats import pearsonr\n",
    "import matplotlib.pyplot as plt\n",
    "import seaborn as sns"
   ]
  },
  {
   "cell_type": "code",
   "execution_count": 5,
   "id": "7a4b972f-2c93-4df8-80ce-172e251076ed",
   "metadata": {},
   "outputs": [
    {
     "data": {
      "text/plain": [
       "0.9911564424693111"
      ]
     },
     "execution_count": 5,
     "metadata": {},
     "output_type": "execute_result"
    }
   ],
   "source": [
    "# Example 1: Manual Calculation\n",
    "\n",
    "x = [5, 11, 21, 30]\n",
    "y = [8, 17, 24, 33]\n",
    "\n",
    "# step 1\n",
    "mean_x = np.mean(x)\n",
    "mean_y = np.mean(y)\n",
    "\n",
    "# step 2\n",
    "numerator = np.sum((x - mean_x) * (y - mean_y))\n",
    "denominator = np.sqrt(np.sum((x - mean_x)**2) * np.sum((y - mean_y)**2))\n",
    "\n",
    "r = numerator / denominator\n",
    "r"
   ]
  },
  {
   "cell_type": "code",
   "execution_count": null,
   "id": "ec33dc9b-46c7-4ddc-aaac-f0ddeba8ec15",
   "metadata": {},
   "outputs": [],
   "source": []
  },
  {
   "cell_type": "code",
   "execution_count": null,
   "id": "e6c363b5-a821-48b5-afbc-a7322abe4780",
   "metadata": {},
   "outputs": [],
   "source": []
  },
  {
   "cell_type": "code",
   "execution_count": null,
   "id": "caa56bc8-2950-47b5-a0f5-7ed68fa30b86",
   "metadata": {},
   "outputs": [],
   "source": []
  },
  {
   "cell_type": "code",
   "execution_count": null,
   "id": "f9b3dec3-4ea1-44d5-aeec-82486e1981d8",
   "metadata": {},
   "outputs": [],
   "source": []
  },
  {
   "cell_type": "code",
   "execution_count": null,
   "id": "a746084b-69e8-41e4-aa2d-3ea34571dbc2",
   "metadata": {},
   "outputs": [],
   "source": []
  },
  {
   "cell_type": "code",
   "execution_count": null,
   "id": "ba546352-7aa1-485d-856e-45f588bb098a",
   "metadata": {},
   "outputs": [],
   "source": []
  },
  {
   "cell_type": "code",
   "execution_count": null,
   "id": "a8bc2fe3-a49e-4191-9ff0-38cd1d3aa3fb",
   "metadata": {},
   "outputs": [],
   "source": []
  },
  {
   "cell_type": "code",
   "execution_count": null,
   "id": "126b43d8-1875-41fb-8c06-b67890e18e80",
   "metadata": {},
   "outputs": [],
   "source": []
  },
  {
   "cell_type": "code",
   "execution_count": null,
   "id": "7626d75f-d841-405f-b35a-d24dd5582f7f",
   "metadata": {},
   "outputs": [],
   "source": []
  },
  {
   "cell_type": "code",
   "execution_count": null,
   "id": "281903bb-83a2-4783-869e-812164fb557e",
   "metadata": {},
   "outputs": [],
   "source": []
  }
 ],
 "metadata": {
  "kernelspec": {
   "display_name": "Python 3 (ipykernel)",
   "language": "python",
   "name": "python3"
  },
  "language_info": {
   "codemirror_mode": {
    "name": "ipython",
    "version": 3
   },
   "file_extension": ".py",
   "mimetype": "text/x-python",
   "name": "python",
   "nbconvert_exporter": "python",
   "pygments_lexer": "ipython3",
   "version": "3.11.7"
  }
 },
 "nbformat": 4,
 "nbformat_minor": 5
}
