{
 "cells": [
  {
   "cell_type": "markdown",
   "id": "ccf95ff8-d44a-495c-8555-3d9092ae51ec",
   "metadata": {},
   "source": [
    "### Web Scraping - Multiple Web Page"
   ]
  },
  {
   "cell_type": "code",
   "execution_count": 64,
   "id": "1bd6543c-4d64-4ddc-9295-1704e02687af",
   "metadata": {},
   "outputs": [],
   "source": [
    "\n",
    "import requests\n",
    "from bs4 import BeautifulSoup\n",
    "import pandas as pd"
   ]
  },
  {
   "cell_type": "code",
   "execution_count": 65,
   "id": "40a839fc-5b2f-4258-9aab-f11bf238a3a7",
   "metadata": {},
   "outputs": [],
   "source": [
    "#url = \"https://books.toscrape.com/\""
   ]
  },
  {
   "cell_type": "code",
   "execution_count": 66,
   "id": "98dc20a4-0b64-4f78-adb8-9e00b46317b2",
   "metadata": {},
   "outputs": [],
   "source": [
    "#response = requests.get(url)\n",
    "#print(response)"
   ]
  },
  {
   "cell_type": "code",
   "execution_count": 67,
   "id": "b417c016-257d-4fbc-96b5-9ab2eff43d75",
   "metadata": {},
   "outputs": [],
   "source": [
    "#page= response.content\n",
    "#print(response_content)"
   ]
  },
  {
   "cell_type": "code",
   "execution_count": 68,
   "id": "91a7e445-7bc2-4b7f-8a3f-7db21fe68807",
   "metadata": {},
   "outputs": [],
   "source": [
    "#soup = BeautifulSoup(page, \"html.parser\")\n",
    "#print(soup)"
   ]
  },
  {
   "cell_type": "code",
   "execution_count": 69,
   "id": "15248be8-3d8d-42b2-9e28-31e24760d70c",
   "metadata": {},
   "outputs": [],
   "source": [
    "#ol = soup.find(\"ol\")\n",
    "#ol"
   ]
  },
  {
   "cell_type": "code",
   "execution_count": 70,
   "id": "4a15f18d-448c-46d4-b86c-87b9128cedf4",
   "metadata": {},
   "outputs": [],
   "source": [
    "articles = ol.find_all(\"article\", class_=\"product_pod\")\n",
    "#articles"
   ]
  },
  {
   "cell_type": "code",
   "execution_count": 71,
   "id": "96277549-9d62-4138-9385-4faefeef0782",
   "metadata": {},
   "outputs": [],
   "source": [
    "books = []\n",
    "\n",
    "for i in range(1,5):\n",
    "  url = f\"https://books.toscrape.com/catalogue/page-{i}.html\"\n",
    "  response = requests.get(url)\n",
    "  response = response.content\n",
    "  soup = BeautifulSoup(response, 'html.parser')\n",
    "  ol = soup.find('ol')\n",
    "  articles = ol.find_all('article', class_='product_pod')\n",
    "    \n",
    "  for article in articles:\n",
    "    image = article.find('img')\n",
    "    title = image.attrs['alt']\n",
    "    starTag = article.find('p')\n",
    "    star = starTag['class'][1]\n",
    "    price = article.find('p', class_='price_color').text\n",
    "    price = float(price[1:])\n",
    "    books.append([title, star, price])"
   ]
  },
  {
   "cell_type": "code",
   "execution_count": 74,
   "id": "c3bf768b-96e0-48ce-9d5d-51da224084bf",
   "metadata": {},
   "outputs": [],
   "source": [
    "df = pd.DataFrame(books, columns=['Title', 'Star Rating', 'Price'])\n",
    "df.to_csv('books.csv', index=False)"
   ]
  },
  {
   "cell_type": "code",
   "execution_count": 75,
   "id": "66742bac-5339-4758-8191-1ee38e7d5b2b",
   "metadata": {},
   "outputs": [
    {
     "data": {
      "text/html": [
       "<div>\n",
       "<style scoped>\n",
       "    .dataframe tbody tr th:only-of-type {\n",
       "        vertical-align: middle;\n",
       "    }\n",
       "\n",
       "    .dataframe tbody tr th {\n",
       "        vertical-align: top;\n",
       "    }\n",
       "\n",
       "    .dataframe thead th {\n",
       "        text-align: right;\n",
       "    }\n",
       "</style>\n",
       "<table border=\"1\" class=\"dataframe\">\n",
       "  <thead>\n",
       "    <tr style=\"text-align: right;\">\n",
       "      <th></th>\n",
       "      <th>Title</th>\n",
       "      <th>Star Rating</th>\n",
       "      <th>Price</th>\n",
       "    </tr>\n",
       "  </thead>\n",
       "  <tbody>\n",
       "    <tr>\n",
       "      <th>0</th>\n",
       "      <td>A Light in the Attic</td>\n",
       "      <td>Three</td>\n",
       "      <td>51.77</td>\n",
       "    </tr>\n",
       "    <tr>\n",
       "      <th>1</th>\n",
       "      <td>Tipping the Velvet</td>\n",
       "      <td>One</td>\n",
       "      <td>53.74</td>\n",
       "    </tr>\n",
       "    <tr>\n",
       "      <th>2</th>\n",
       "      <td>Soumission</td>\n",
       "      <td>One</td>\n",
       "      <td>50.10</td>\n",
       "    </tr>\n",
       "    <tr>\n",
       "      <th>3</th>\n",
       "      <td>Sharp Objects</td>\n",
       "      <td>Four</td>\n",
       "      <td>47.82</td>\n",
       "    </tr>\n",
       "    <tr>\n",
       "      <th>4</th>\n",
       "      <td>Sapiens: A Brief History of Humankind</td>\n",
       "      <td>Five</td>\n",
       "      <td>54.23</td>\n",
       "    </tr>\n",
       "    <tr>\n",
       "      <th>...</th>\n",
       "      <td>...</td>\n",
       "      <td>...</td>\n",
       "      <td>...</td>\n",
       "    </tr>\n",
       "    <tr>\n",
       "      <th>75</th>\n",
       "      <td>Security</td>\n",
       "      <td>Two</td>\n",
       "      <td>39.25</td>\n",
       "    </tr>\n",
       "    <tr>\n",
       "      <th>76</th>\n",
       "      <td>Saga, Volume 6 (Saga (Collected Editions) #6)</td>\n",
       "      <td>Three</td>\n",
       "      <td>25.02</td>\n",
       "    </tr>\n",
       "    <tr>\n",
       "      <th>77</th>\n",
       "      <td>Saga, Volume 5 (Saga (Collected Editions) #5)</td>\n",
       "      <td>Two</td>\n",
       "      <td>51.04</td>\n",
       "    </tr>\n",
       "    <tr>\n",
       "      <th>78</th>\n",
       "      <td>Reskilling America: Learning to Labor in the T...</td>\n",
       "      <td>Two</td>\n",
       "      <td>19.83</td>\n",
       "    </tr>\n",
       "    <tr>\n",
       "      <th>79</th>\n",
       "      <td>Rat Queens, Vol. 3: Demons (Rat Queens (Collec...</td>\n",
       "      <td>Three</td>\n",
       "      <td>50.40</td>\n",
       "    </tr>\n",
       "  </tbody>\n",
       "</table>\n",
       "<p>80 rows × 3 columns</p>\n",
       "</div>"
      ],
      "text/plain": [
       "                                                Title Star Rating  Price\n",
       "0                                A Light in the Attic       Three  51.77\n",
       "1                                  Tipping the Velvet         One  53.74\n",
       "2                                          Soumission         One  50.10\n",
       "3                                       Sharp Objects        Four  47.82\n",
       "4               Sapiens: A Brief History of Humankind        Five  54.23\n",
       "..                                                ...         ...    ...\n",
       "75                                           Security         Two  39.25\n",
       "76      Saga, Volume 6 (Saga (Collected Editions) #6)       Three  25.02\n",
       "77      Saga, Volume 5 (Saga (Collected Editions) #5)         Two  51.04\n",
       "78  Reskilling America: Learning to Labor in the T...         Two  19.83\n",
       "79  Rat Queens, Vol. 3: Demons (Rat Queens (Collec...       Three  50.40\n",
       "\n",
       "[80 rows x 3 columns]"
      ]
     },
     "execution_count": 75,
     "metadata": {},
     "output_type": "execute_result"
    }
   ],
   "source": [
    "df"
   ]
  },
  {
   "cell_type": "code",
   "execution_count": null,
   "id": "1c48d82b-a33d-4f3d-af7a-ea8d0f417448",
   "metadata": {},
   "outputs": [],
   "source": []
  },
  {
   "cell_type": "code",
   "execution_count": null,
   "id": "fcda4c9c-b42a-4abc-9227-d05eb95f2b3f",
   "metadata": {},
   "outputs": [],
   "source": []
  },
  {
   "cell_type": "code",
   "execution_count": null,
   "id": "89632f8b-f749-4a58-b3f7-b082ce8a0a3b",
   "metadata": {},
   "outputs": [],
   "source": []
  },
  {
   "cell_type": "code",
   "execution_count": null,
   "id": "ea4a47b4-c1ec-4f94-b9c7-efab1349795a",
   "metadata": {},
   "outputs": [],
   "source": []
  }
 ],
 "metadata": {
  "kernelspec": {
   "display_name": "Python 3 (ipykernel)",
   "language": "python",
   "name": "python3"
  },
  "language_info": {
   "codemirror_mode": {
    "name": "ipython",
    "version": 3
   },
   "file_extension": ".py",
   "mimetype": "text/x-python",
   "name": "python",
   "nbconvert_exporter": "python",
   "pygments_lexer": "ipython3",
   "version": "3.11.7"
  }
 },
 "nbformat": 4,
 "nbformat_minor": 5
}
