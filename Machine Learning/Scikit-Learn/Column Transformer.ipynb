{
 "cells": [
  {
   "cell_type": "markdown",
   "id": "8487d2bd-dfd8-46b4-8e0a-34252030096a",
   "metadata": {},
   "source": [
    "### Columns Tranformer\n",
    "\n",
    "- Allows you to selectively apply data preparations transforms to different columns in a dataset\n",
    "- paryicular useful when the dataset have amix of numerical and categorical data that require different preprocesing steps\n",
    "- Why???\n",
    "  1. Selective Transformation: Apply specific transformations to subsets of columns.\n",
    "  2. Pipeline Integration: Easily integrate with scikit-learn's Pipeline for streamlined workflows.\n",
    "  3. Code Organization: Encapsulate preprocessing logic in a single, maintainable object."
   ]
  }
 ],
 "metadata": {
  "kernelspec": {
   "display_name": "Python 3 (ipykernel)",
   "language": "python",
   "name": "python3"
  },
  "language_info": {
   "codemirror_mode": {
    "name": "ipython",
    "version": 3
   },
   "file_extension": ".py",
   "mimetype": "text/x-python",
   "name": "python",
   "nbconvert_exporter": "python",
   "pygments_lexer": "ipython3",
   "version": "3.11.7"
  }
 },
 "nbformat": 4,
 "nbformat_minor": 5
}
