{
 "cells": [
  {
   "cell_type": "code",
   "execution_count": 1,
   "id": "ea1948d6-4aa3-46d3-9a91-a94a439118ec",
   "metadata": {},
   "outputs": [],
   "source": [
    "import numpy as np\n",
    "%matplotlib widget\n",
    "import matplotlib.pyplot as plt\n",
    "from lab_utils_uni import plt_intuition, plt_stationary, plt_update_onclick, soup_bowl\n",
    "plt.style.use('./deeplearning.mplstyle')"
   ]
  },
  {
   "cell_type": "markdown",
   "id": "f0d8c7c7-3dcb-497a-b61b-171616947eca",
   "metadata": {},
   "source": [
    "## Problem Statement\n",
    "\n",
    "You would like a model which can predict housing prices given the size of the house.  \n",
    "Let's use the same two data points as before the previous lab- a house with 1000 square feet sold for \\\\$300,000 and a house with 2000 square feet sold for \\\\$500,000.\n",
    "\n",
    "\n",
    "| Size (1000 sqft)     | Price (1000s of dollars) |\n",
    "| -------------------| ------------------------ |\n",
    "| 1                 | 300                      |\n",
    "| 2                  | 500                      |\n"
   ]
  },
  {
   "cell_type": "code",
   "execution_count": 5,
   "id": "34d8bfd0-ce96-44ab-b3d7-835f086fd863",
   "metadata": {},
   "outputs": [],
   "source": [
    "x_train = np.array([1.0, 2.0])    #size in 1000 sqrft\n",
    "y_train = np.array([300, 500])    #price in 1000s of dollars"
   ]
  },
  {
   "cell_type": "markdown",
   "id": "8985f0fa-e956-4d50-ae55-75184859f1b4",
   "metadata": {},
   "source": [
    "## Computing Cost Function\r\n",
    "The term 'cost' in this assignment might be a little confusing since the data is housing cost. Here, cost is a measure how well our model is predicting the target price of the house. The term 'price' is used for housing data.\r\n",
    "\r\n",
    "The equation for cost with one variable is:\r\n",
    "  $$J(w,b) = \\frac{1}{2m} \\sum\\limits_{i = 0}^{m-1} (f_{w,b}(x^{(i)}) - y^{(i)})^2 \\tag{1}$$ \r\n",
    " \r\n",
    "where \r\n",
    "  $$f_{w,b}(x^{(i)}) = wx^{(i)} + b \\tag{2}$$\r\n",
    "  \r\n",
    "- $f_{w,b}(x^{(i)})$ is our prediction for example $i$ using parameters $w,b$.  \r\n",
    "- $(f_{w,b}(x^{(i)}) -y^{(i)})^2$ is the squared difference between the target value and the prediction.   \r\n",
    "- These differences are summed over all the $m$ examples and divided by `2m` to produce the cost, $J(w,b)$.  \r\n",
    ">Note, in lecture summation ranges are typically from 1 to m, while code will be from 0 to m-1.\r\n"
   ]
  },
  {
   "cell_type": "markdown",
   "id": "470fb5c1-0cf2-4f95-8b59-98429f38c73f",
   "metadata": {},
   "source": [
    "The code below calculates cost by looping over each example. In each loop:\r\n",
    "- `f_wb`, a prediction is calculated\r\n",
    "- the difference between the target and the prediction is calculated and squared.\r\n",
    "- this is added to the total cost."
   ]
  },
  {
   "cell_type": "code",
   "execution_count": 6,
   "id": "2f087588-cae5-4c26-b758-071c2915928c",
   "metadata": {},
   "outputs": [],
   "source": [
    "def compute_cost(x,y,w, b):\n",
    "    #number of training examples\n",
    "    m = x.shape[0] #shape provide no of rows & no. of columns  (rows, columns)\n",
    "\n",
    "    #computing the formula and assign cost to start at 0\n",
    "    cost_sum = 0\n",
    "    for i in range(m):\n",
    "        f_wb = w*x[i] + b\n",
    "        cost = (f_wb - y[i])**2\n",
    "        cost_sum = cost_sum + cost\n",
    "    total_cost = (1/(2*m)) * cost_sum\n",
    "\n",
    "    return total_cost\n",
    "        "
   ]
  },
  {
   "cell_type": "markdown",
   "id": "645d8761-cf8d-4e9a-a8aa-5546deb04b17",
   "metadata": {},
   "source": [
    "<img align=\"left\" src=\"./images/C1_W1_Lab02_GoalOfRegression.PNG\"    style=\" width:380px; padding: 10px;  \" /> Your goal is to find a model $f_{w,b}(x) = wx + b$, with parameters $w,b$,  which will accurately predict house values given an input $x$. The cost is a measure of how accurate the model is on the training data.\r\n",
    "\r\n",
    "The cost equation (1) above shows that if $w$ and $b$ can be selected such that the predictions $f_{w,b}(x)$ match the target data $y$, the $(f_{w,b}(x^{(i)}) - y^{(i)})^2 $ term will be zero and the cost minimized. In this simple two point example, you can achieve this!\r\n",
    "\r\n",
    "In the previous lab, you determined that $b=100$ provided an optimal solution so let's set $b$ to 100 and focus on $w$.\r\n",
    "\r\n",
    "<br/>\r\n",
    "Below, use the slider control to select the value of $w$ that minimizes cost. It can take a few seconds for the plot to update."
   ]
  },
  {
   "cell_type": "code",
   "execution_count": null,
   "id": "f92eee3e-5dec-405b-8b48-81f9961575a0",
   "metadata": {},
   "outputs": [],
   "source": []
  },
  {
   "cell_type": "code",
   "execution_count": null,
   "id": "9c917721-a18b-4f23-b97c-3d33a6ba01c4",
   "metadata": {},
   "outputs": [],
   "source": []
  },
  {
   "cell_type": "code",
   "execution_count": null,
   "id": "ece06dc9-6b0d-4af3-a3d5-eb98a1e89aa1",
   "metadata": {},
   "outputs": [],
   "source": []
  },
  {
   "cell_type": "code",
   "execution_count": null,
   "id": "c94cd919-c0b8-4fed-942a-1646692db866",
   "metadata": {},
   "outputs": [],
   "source": []
  },
  {
   "cell_type": "code",
   "execution_count": null,
   "id": "1e86abd6-63e5-45b2-afc3-f641e516ae6a",
   "metadata": {},
   "outputs": [],
   "source": []
  },
  {
   "cell_type": "code",
   "execution_count": null,
   "id": "4f4c0885-34dd-452b-94bb-d66a0721f9c1",
   "metadata": {},
   "outputs": [],
   "source": []
  },
  {
   "cell_type": "code",
   "execution_count": null,
   "id": "b361ce27-1288-4270-9cd3-05f56116979d",
   "metadata": {},
   "outputs": [],
   "source": []
  },
  {
   "cell_type": "code",
   "execution_count": null,
   "id": "89736d33-fd1d-43fd-af4f-0cf12ca48bb3",
   "metadata": {},
   "outputs": [],
   "source": []
  },
  {
   "cell_type": "code",
   "execution_count": null,
   "id": "6e41d84e-5d9c-48fe-aecd-ca670ade90f8",
   "metadata": {},
   "outputs": [],
   "source": []
  },
  {
   "cell_type": "code",
   "execution_count": null,
   "id": "ac7588d2-0600-49fb-af49-7ea1caa92084",
   "metadata": {},
   "outputs": [],
   "source": []
  },
  {
   "cell_type": "code",
   "execution_count": null,
   "id": "47d7d490-2cc5-494b-a7af-ffdcee061b73",
   "metadata": {},
   "outputs": [],
   "source": []
  },
  {
   "cell_type": "code",
   "execution_count": null,
   "id": "82b771d4-3b5e-4ecd-992b-d19c666c15db",
   "metadata": {},
   "outputs": [],
   "source": []
  },
  {
   "cell_type": "code",
   "execution_count": null,
   "id": "7d3715bb-1493-40f6-9f96-dbbe9384dca3",
   "metadata": {},
   "outputs": [],
   "source": []
  },
  {
   "cell_type": "code",
   "execution_count": null,
   "id": "38449e35-e278-4913-a228-f27d8ba55572",
   "metadata": {},
   "outputs": [],
   "source": []
  },
  {
   "cell_type": "code",
   "execution_count": null,
   "id": "6aba4745-e036-46d2-8971-ef4cae8817f7",
   "metadata": {},
   "outputs": [],
   "source": []
  }
 ],
 "metadata": {
  "kernelspec": {
   "display_name": "Python 3 (ipykernel)",
   "language": "python",
   "name": "python3"
  },
  "language_info": {
   "codemirror_mode": {
    "name": "ipython",
    "version": 3
   },
   "file_extension": ".py",
   "mimetype": "text/x-python",
   "name": "python",
   "nbconvert_exporter": "python",
   "pygments_lexer": "ipython3",
   "version": "3.11.7"
  }
 },
 "nbformat": 4,
 "nbformat_minor": 5
}
